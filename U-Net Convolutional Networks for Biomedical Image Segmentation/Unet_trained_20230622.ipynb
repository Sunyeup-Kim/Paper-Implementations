{
  "nbformat": 4,
  "nbformat_minor": 0,
  "metadata": {
    "colab": {
      "provenance": [],
      "gpuType": "T4"
    },
    "kernelspec": {
      "name": "python3",
      "display_name": "Python 3"
    },
    "language_info": {
      "name": "python"
    },
    "accelerator": "GPU"
  },
  "cells": [
    {
      "cell_type": "code",
      "execution_count": 1,
      "metadata": {
        "id": "to702DhI3hMY"
      },
      "outputs": [],
      "source": [
        "import torch\n",
        "import torch.nn as nn\n",
        "import torch.nn.functional as F\n",
        "import torch.optim as optim\n",
        "from torch.utils import data\n",
        "\n",
        "from torchvision import transforms\n",
        "\n",
        "from PIL import Image\n",
        "from tqdm import tqdm\n",
        "\n",
        "import pandas as pd\n",
        "import matplotlib.pyplot as plt\n",
        "import numpy as np\n",
        "\n",
        "from sklearn.model_selection import train_test_split\n",
        "\n",
        "import pandas as pd\n",
        "import numpy as np\n",
        "import os\n"
      ]
    },
    {
      "cell_type": "code",
      "source": [
        "!nvidia-smi -L"
      ],
      "metadata": {
        "colab": {
          "base_uri": "https://localhost:8080/"
        },
        "id": "H0nAgcL6VPc6",
        "outputId": "2016476c-697c-4567-ff97-dd8eb8a1f8e5"
      },
      "execution_count": 2,
      "outputs": [
        {
          "output_type": "stream",
          "name": "stdout",
          "text": [
            "GPU 0: Tesla T4 (UUID: GPU-47b46eb1-fa80-0f83-8e3a-2f0b81d2788a)\n"
          ]
        }
      ]
    },
    {
      "cell_type": "code",
      "source": [
        "from google.colab import drive\n",
        "\n",
        "drive.mount(r'/content/drive')"
      ],
      "metadata": {
        "colab": {
          "base_uri": "https://localhost:8080/"
        },
        "id": "0h4e4oGI4Hk8",
        "outputId": "d6f172fb-8e42-4681-87c5-14c139c6067f"
      },
      "execution_count": 3,
      "outputs": [
        {
          "output_type": "stream",
          "name": "stdout",
          "text": [
            "Mounted at /content/drive\n"
          ]
        }
      ]
    },
    {
      "cell_type": "code",
      "source": [
        "\n",
        "# ----- define model -----\n",
        "class U_Net(nn.Module):\n",
        "\n",
        "    def __init__(self):\n",
        "        super().__init__()\n",
        "\n",
        "        # contracting path\n",
        "        self.conv1 = nn.Conv2d(3, 64, kernel_size=3)\n",
        "        self.conv2 = nn.Conv2d(64, 64, kernel_size=3)\n",
        "\n",
        "        self.conv3 = nn.Conv2d(64, 128, kernel_size=3)\n",
        "        self.conv4 = nn.Conv2d(128, 128, kernel_size=3)\n",
        "\n",
        "        self.conv5 = nn.Conv2d(128, 256, kernel_size=3)\n",
        "        self.conv6 = nn.Conv2d(256, 256, kernel_size=3)\n",
        "\n",
        "        self.conv7 = nn.Conv2d(256, 512, kernel_size=3)\n",
        "        self.conv8 = nn.Conv2d(512, 512, kernel_size=3)\n",
        "\n",
        "        #bottom path\n",
        "        self.conv9 = nn.Conv2d(512, 1024, kernel_size=3)\n",
        "        self.conv10 = nn.Conv2d(1024, 1024, kernel_size=3)\n",
        "\n",
        "        # expansive path\n",
        "        self.conv11 = nn.ConvTranspose2d(1024, 512, kernel_size=2, stride=2) # explains about up-sampling: https://naokishibuya.medium.com/up-sampling-with-transposed-convolution-9ae4f2df52d0\n",
        "        self.conv12 = nn.Conv2d(1024, 512, kernel_size=3)\n",
        "        self.conv13 = nn.Conv2d(512, 512, kernel_size=3)\n",
        "\n",
        "        self.conv14 = nn.ConvTranspose2d(512, 256, kernel_size=2, stride=2)\n",
        "        self.conv15 = nn.Conv2d(512, 256, kernel_size=3)\n",
        "        self.conv16 = nn.Conv2d(256, 256, kernel_size=3)\n",
        "\n",
        "        self.conv17 = nn.ConvTranspose2d(256, 128, kernel_size=2, stride=2)\n",
        "        self.conv18 = nn.Conv2d(256, 128, kernel_size=3)\n",
        "        self.conv19 = nn.Conv2d(128, 128, kernel_size=3)\n",
        "\n",
        "        self.conv20 = nn.ConvTranspose2d(128, 64, kernel_size=2, stride=2)\n",
        "        self.conv21 = nn.Conv2d(128, 64, kernel_size=3)\n",
        "        self.conv22 = nn.Conv2d(64, 64, kernel_size=3)\n",
        "\n",
        "        self.conv23 = nn.Conv2d(64, 1, kernel_size=1)\n",
        "\n",
        "        # crop needed in expansive path\n",
        "        self.crop1 = transforms.CenterCrop(56)\n",
        "        self.crop2 = transforms.CenterCrop(104)\n",
        "        self.crop3 = transforms.CenterCrop(200)\n",
        "        self.crop4 = transforms.CenterCrop(392)\n",
        "\n",
        "    def forward(self, x):\n",
        "\n",
        "        # contracting path\n",
        "        out = torch.relu(self.conv2(torch.relu(self.conv1(x))))\n",
        "        out1 = out\n",
        "        out = F.max_pool2d(out, 2)\n",
        "\n",
        "        out = torch.relu(self.conv4(torch.relu(self.conv3(out))))\n",
        "        out2 = out\n",
        "        out = F.max_pool2d(out, 2)\n",
        "\n",
        "        out = torch.relu(self.conv6(torch.relu(self.conv5(out))))\n",
        "        out3 = out\n",
        "        out = F.max_pool2d(out, 2)\n",
        "\n",
        "        out = torch.relu(self.conv8(torch.relu(self.conv7(out))))\n",
        "        out4 = out\n",
        "        out = F.max_pool2d(out, 2)\n",
        "\n",
        "        # bottom path\n",
        "        out = torch.relu(self.conv10(torch.relu(self.conv9(out))))\n",
        "\n",
        "        # expansive path\n",
        "\n",
        "        out4 = self.crop1(out4)\n",
        "        out = self.conv13(torch.relu(self.conv12(torch.relu(torch.cat([self.conv11(out), out4], dim=1)))))\n",
        "\n",
        "        out3 = self.crop2(out3)\n",
        "        out = self.conv16(torch.relu(self.conv15(torch.relu(torch.cat([self.conv14(out), out3], dim=1)))))\n",
        "\n",
        "        out2 = self.crop3(out2)\n",
        "        out = self.conv19(torch.relu(self.conv18(torch.relu(torch.cat([self.conv17(out), out2], dim=1)))))\n",
        "\n",
        "        out1 = self.crop4(out1)\n",
        "        out = self.conv22(torch.relu(self.conv21(torch.relu(torch.cat([self.conv20(out), out1], dim=1)))))\n",
        "\n",
        "        out = F.sigmoid(self.conv23(out))\n",
        "\n",
        "        return out\n",
        "\n",
        "\n"
      ],
      "metadata": {
        "id": "iFAd9GoB3l5t"
      },
      "execution_count": 4,
      "outputs": []
    },
    {
      "cell_type": "code",
      "source": [
        "df = pd.read_csv(r'/content/drive/My Drive/Colab Notebooks/data/kaggle_3m/data.csv')\n",
        "df.head()\n",
        "\n",
        "\n",
        "path = r'/content/drive/My Drive/Colab Notebooks/data/kaggle_3m'\n",
        "data_list = os.listdir(path)\n",
        "data_list = data_list[3:] # csv와 메모 파일 버리기\n",
        "print(len(data_list))\n",
        "\n",
        "\n",
        "data_tmp = []\n",
        "\n",
        "for path2 in data_list:\n",
        "  if 'TCGA' in path2:\n",
        "    path_tmp = os.path.join(path, path2)\n",
        "\n",
        "    for tmp in os.listdir(path_tmp):\n",
        "        data_tmp.append(path2)\n",
        "        data_tmp.append(os.path.join(path_tmp, tmp))\n",
        "\n",
        "\n",
        "filenames = data_tmp[::2]\n",
        "masks = data_tmp[1::2]\n",
        "\n",
        "df = pd.DataFrame(data={\"patient_id\": filenames,\"img_path\": masks})\n",
        "print(df.shape)\n",
        "\n",
        "# df.to_csv(r'/content/drive/My Drive/Colab Notebooks/data/kaggle_3m/image_path.csv', index=False)"
      ],
      "metadata": {
        "colab": {
          "base_uri": "https://localhost:8080/"
        },
        "id": "LnlbYl2142sI",
        "outputId": "27acf642-630e-40aa-e61b-ec78ae097478"
      },
      "execution_count": 5,
      "outputs": [
        {
          "output_type": "stream",
          "name": "stdout",
          "text": [
            "110\n",
            "(7818, 2)\n"
          ]
        }
      ]
    },
    {
      "cell_type": "code",
      "source": [
        "\n",
        "# ----- set hyperparameters -----\n",
        "learning_rate = 1e-2\n",
        "n_epochs = 10\n",
        "batch_size = 8"
      ],
      "metadata": {
        "id": "QpA3KEuj3n_m"
      },
      "execution_count": 6,
      "outputs": []
    },
    {
      "cell_type": "code",
      "source": [
        "# ----- prepare data -----\n",
        "# df = pd.read_csv(r'/content/gdrive/Colab Notebooks/data/kaggle_3m/image_path.csv')\n",
        "\n",
        "# Split the dataframe into 2 dataframe: 1 for image and 1 for mask\n",
        "df_img_path = df[~df['img_path'].str.contains(\"mask\")]\n",
        "df_img_path['mask_path'] = df_img_path['img_path'].str.replace('.tif', '_mask.tif')\n",
        "\n",
        "x_train, x_val, y_train, y_val = train_test_split(df_img_path['img_path'].values, df_img_path['mask_path'].values, train_size=0.8)\n",
        "x_val, x_test, y_val, y_test = train_test_split(x_val, y_val, train_size=0.5)"
      ],
      "metadata": {
        "colab": {
          "base_uri": "https://localhost:8080/"
        },
        "id": "SDdplAxl3qX_",
        "outputId": "3a4b1fa3-bf32-4d96-f95f-b68ff9eaca38"
      },
      "execution_count": 7,
      "outputs": [
        {
          "output_type": "stream",
          "name": "stderr",
          "text": [
            "<ipython-input-7-e97acecfea4c>:6: FutureWarning: The default value of regex will change from True to False in a future version.\n",
            "  df_img_path['mask_path'] = df_img_path['img_path'].str.replace('.tif', '_mask.tif')\n",
            "<ipython-input-7-e97acecfea4c>:6: SettingWithCopyWarning: \n",
            "A value is trying to be set on a copy of a slice from a DataFrame.\n",
            "Try using .loc[row_indexer,col_indexer] = value instead\n",
            "\n",
            "See the caveats in the documentation: https://pandas.pydata.org/pandas-docs/stable/user_guide/indexing.html#returning-a-view-versus-a-copy\n",
            "  df_img_path['mask_path'] = df_img_path['img_path'].str.replace('.tif', '_mask.tif')\n"
          ]
        }
      ]
    },
    {
      "cell_type": "code",
      "source": [
        "# 코드 출처: https://towardsdatascience.com/creating-and-training-a-u-net-model-with-pytorch-for-2d-3d-semantic-segmentation-dataset-fb1f7f80fe55\n",
        "# Segmentation Task에서는 DataLoader에 넣을 Dataset 클래스를 customize하여 사용해야 한다고 한다 https://wikidocs.net/57165\n",
        "class SegmentationDataSet(data.Dataset):\n",
        "    def __init__(self,\n",
        "                 inputs: list,\n",
        "                 targets: list,\n",
        "                 ):\n",
        "        self.inputs = inputs\n",
        "        self.targets = targets\n",
        "        self.transform1 = transforms.Compose([\n",
        "                    transforms.Resize(572),\n",
        "                    transforms.ToTensor()\n",
        "                ])\n",
        "        self.transform2 = transforms.Compose([\n",
        "                    transforms.Resize(388),\n",
        "                    transforms.ToTensor()\n",
        "                ])\n",
        "        self.inputs_dtype = torch.float32\n",
        "        self.targets_dtype = torch.long\n",
        "\n",
        "    def __len__(self):\n",
        "        return len(self.inputs)\n",
        "\n",
        "    def __getitem__(self,\n",
        "                    index: int):\n",
        "        # Select the sample\n",
        "        input_ID = self.inputs[index]\n",
        "        target_ID = self.targets[index]\n",
        "\n",
        "        # Load input and target\n",
        "        x, y = Image.open(input_ID), Image.open(target_ID)\n",
        "\n",
        "        # Preprocessing\n",
        "        x = self.transform1(x)\n",
        "        y = self.transform2(y)\n",
        "\n",
        "        # Typecasting\n",
        "        # x, y = torch.from_numpy(x).type(self.inputs_dtype), torch.from_numpy(y).type(self.targets_dtype)\n",
        "\n",
        "        return x, y\n",
        "\n",
        "\n",
        "training_dataset = SegmentationDataSet(inputs=x_train,\n",
        "                                       targets=y_train)\n",
        "\n",
        "training_dataloader = data.DataLoader(dataset=training_dataset,\n",
        "                                      batch_size=batch_size,\n",
        "                                      shuffle=True)\n",
        "\n",
        "\n",
        "validation_dataset = SegmentationDataSet(inputs=x_val,\n",
        "                                       targets=y_val)\n",
        "\n",
        "validation_dataloader = data.DataLoader(dataset=validation_dataset,\n",
        "                                      batch_size=batch_size,\n",
        "                                      shuffle=True)"
      ],
      "metadata": {
        "id": "euCPgUIj3s-K"
      },
      "execution_count": 8,
      "outputs": []
    },
    {
      "cell_type": "code",
      "source": [
        "# ----- prepare training -----\n",
        "device = (torch.device('cuda') if torch.cuda.is_available()\n",
        "          else torch.device('cpu'))\n",
        "print(f\"Training on device {device}\")\n",
        "\n",
        "def binary_iou(pred, target, threshold=0.5):  # 모델 평가에 사용될 함수 Intersection over Union(IoU)\n",
        "    pred = pred > threshold\n",
        "    target = target > threshold\n",
        "\n",
        "    intersection = (pred & target).float().sum(())  # Will be zero if Truth=0 or Prediction=0\n",
        "    union = (pred | target).float().sum(())         # Will be zero if both are 0\n",
        "\n",
        "    iou = (intersection + 1e-6) / (union + 1e-6)        # We smooth our devision to avoid 0/0\n",
        "\n",
        "    return iou\n",
        "\n",
        "def training_loop(n_epochs, optimizer, model, loss_fn, train_loader, val_loader):\n",
        "    print(\"------------- Start Training -------------\")\n",
        "\n",
        "    train_loss = []\n",
        "    val_iou = []\n",
        "\n",
        "    for epoch in range(1, n_epochs + 1):\n",
        "        loss_train = 0.0\n",
        "        iou_val = 0.0\n",
        "\n",
        "        # training part\n",
        "        loop = tqdm(train_loader)\n",
        "\n",
        "        for imgs, labels in loop:\n",
        "\n",
        "            imgs = imgs.to(device=device) # GPU 사용을 하려고 할 때 필요\n",
        "            labels = labels.to(device=device) # GPU 사용을 하려고 할 때 필요\n",
        "\n",
        "            outputs = model(imgs)\n",
        "            loss = loss_fn(outputs, labels)\n",
        "\n",
        "            optimizer.zero_grad()\n",
        "            loss.backward()\n",
        "            optimizer.step()\n",
        "\n",
        "            loss_train += loss.item()\n",
        "\n",
        "        # validation part\n",
        "        loop = val_loader\n",
        "\n",
        "        with torch.no_grad():\n",
        "            for imgs, labels in loop:\n",
        "                imgs = imgs.to(device=device) # GPU 사용을 하려고 할 때 필요\n",
        "                labels = labels.to(device=device) # GPU 사용을 하려고 할 때 필요\n",
        "\n",
        "                outputs = model(imgs)\n",
        "\n",
        "                iou_val += binary_iou(outputs, labels)\n",
        "\n",
        "\n",
        "        # if epoch == 1 or epoch % 10 == 0:\n",
        "        print('Epoch {}, Training loss {}, Validation IoU {}'.format(epoch, round(loss_train/len(train_loader), 4), round(iou_val.item()/len(val_loader), 4)))\n",
        "\n",
        "        train_loss.append(loss_train/len(train_loader))\n",
        "        val_iou.append(iou_val.item()/len(val_loader))\n",
        "\n",
        "    return train_loss, val_iou"
      ],
      "metadata": {
        "colab": {
          "base_uri": "https://localhost:8080/"
        },
        "id": "bIb6DUiq3w8u",
        "outputId": "c5f8f677-64c9-45c9-b3bf-e790e4b9c3f3"
      },
      "execution_count": 11,
      "outputs": [
        {
          "output_type": "stream",
          "name": "stdout",
          "text": [
            "Training on device cuda\n"
          ]
        }
      ]
    },
    {
      "cell_type": "code",
      "source": [
        "# ----- prepare model -----\n",
        "model = U_Net()\n",
        "model = model.to(device)\n",
        "\n",
        "optimizer = optim.SGD(model.parameters(), lr=learning_rate)\n",
        "loss_fn = nn.BCELoss()\n",
        "# materials for loss fucntion:\n",
        "# https://darshita1405.medium.com/extending-binary-image-segmentation-to-multi-class-image-segmentation-714a77692f1d\n",
        "# https://medium.com/@mhamdaan/multi-class-semantic-segmentation-with-u-net-pytorch-ee81a66bba89\n"
      ],
      "metadata": {
        "id": "dTansmy63zeN"
      },
      "execution_count": 12,
      "outputs": []
    },
    {
      "cell_type": "code",
      "source": [
        "# ----- train the model -----\n",
        "\n",
        "train_result = training_loop(\n",
        "    n_epochs=n_epochs,\n",
        "    optimizer=optimizer,\n",
        "    model=model,\n",
        "    loss_fn=loss_fn,\n",
        "    train_loader=training_dataloader,\n",
        "    val_loader=validation_dataloader\n",
        ")"
      ],
      "metadata": {
        "colab": {
          "base_uri": "https://localhost:8080/"
        },
        "id": "DYNbsULa31Na",
        "outputId": "3f051fe8-3f11-4eb4-8b53-7b29f3a7b0fc"
      },
      "execution_count": 13,
      "outputs": [
        {
          "output_type": "stream",
          "name": "stdout",
          "text": [
            "------------- Start Training -------------\n"
          ]
        },
        {
          "output_type": "stream",
          "name": "stderr",
          "text": [
            "100%|██████████| 391/391 [1:23:16<00:00, 12.78s/it]\n"
          ]
        },
        {
          "output_type": "stream",
          "name": "stdout",
          "text": [
            "Epoch 1, Training loss 0.1924, Validation IoU 0.0204\n"
          ]
        },
        {
          "output_type": "stream",
          "name": "stderr",
          "text": [
            "100%|██████████| 391/391 [10:01<00:00,  1.54s/it]\n"
          ]
        },
        {
          "output_type": "stream",
          "name": "stdout",
          "text": [
            "Epoch 2, Training loss 0.061, Validation IoU 0.0408\n"
          ]
        },
        {
          "output_type": "stream",
          "name": "stderr",
          "text": [
            "100%|██████████| 391/391 [10:00<00:00,  1.54s/it]\n"
          ]
        },
        {
          "output_type": "stream",
          "name": "stdout",
          "text": [
            "Epoch 3, Training loss 0.0561, Validation IoU 0.0612\n"
          ]
        },
        {
          "output_type": "stream",
          "name": "stderr",
          "text": [
            "100%|██████████| 391/391 [10:01<00:00,  1.54s/it]\n"
          ]
        },
        {
          "output_type": "stream",
          "name": "stdout",
          "text": [
            "Epoch 4, Training loss 0.0522, Validation IoU 0.0816\n"
          ]
        },
        {
          "output_type": "stream",
          "name": "stderr",
          "text": [
            "100%|██████████| 391/391 [10:01<00:00,  1.54s/it]\n"
          ]
        },
        {
          "output_type": "stream",
          "name": "stdout",
          "text": [
            "Epoch 5, Training loss 0.0496, Validation IoU 0.0408\n"
          ]
        },
        {
          "output_type": "stream",
          "name": "stderr",
          "text": [
            "100%|██████████| 391/391 [10:01<00:00,  1.54s/it]\n"
          ]
        },
        {
          "output_type": "stream",
          "name": "stdout",
          "text": [
            "Epoch 6, Training loss 0.0479, Validation IoU 0.0\n"
          ]
        },
        {
          "output_type": "stream",
          "name": "stderr",
          "text": [
            "100%|██████████| 391/391 [10:03<00:00,  1.54s/it]\n"
          ]
        },
        {
          "output_type": "stream",
          "name": "stdout",
          "text": [
            "Epoch 7, Training loss 0.0468, Validation IoU 0.0612\n"
          ]
        },
        {
          "output_type": "stream",
          "name": "stderr",
          "text": [
            "100%|██████████| 391/391 [10:03<00:00,  1.54s/it]\n"
          ]
        },
        {
          "output_type": "stream",
          "name": "stdout",
          "text": [
            "Epoch 8, Training loss 0.0461, Validation IoU 0.0816\n"
          ]
        },
        {
          "output_type": "stream",
          "name": "stderr",
          "text": [
            "100%|██████████| 391/391 [10:03<00:00,  1.54s/it]\n"
          ]
        },
        {
          "output_type": "stream",
          "name": "stdout",
          "text": [
            "Epoch 9, Training loss 0.0455, Validation IoU 0.0\n"
          ]
        },
        {
          "output_type": "stream",
          "name": "stderr",
          "text": [
            "100%|██████████| 391/391 [10:03<00:00,  1.54s/it]\n"
          ]
        },
        {
          "output_type": "stream",
          "name": "stdout",
          "text": [
            "Epoch 10, Training loss 0.0451, Validation IoU 0.0204\n"
          ]
        }
      ]
    },
    {
      "cell_type": "code",
      "source": [
        "\n",
        "# ----- visualize train_result -----\n",
        "epoch_range = range(1, n_epochs + 1)\n",
        "\n",
        "# (1) plotting\n",
        "plt.figure(figsize=(8, 8))\n",
        "plt.plot(epoch_range, train_result[0], label='Training Loss')\n",
        "plt.plot(epoch_range, train_result[1], label='Validation IoU')\n",
        "plt.legend(loc='lower right')\n",
        "plt.title('Training Loss and Validation IoU')\n",
        "plt.show()"
      ],
      "metadata": {
        "id": "GzbUZIl_3260",
        "colab": {
          "base_uri": "https://localhost:8080/",
          "height": 699
        },
        "outputId": "70256217-3e40-4c0c-f612-9019298289d5"
      },
      "execution_count": 14,
      "outputs": [
        {
          "output_type": "display_data",
          "data": {
            "text/plain": [
              "<Figure size 800x800 with 1 Axes>"
            ],
            "image/png": "[encoded data removed]"
          },
          "metadata": {}
        }
      ]
    }
  ]
}